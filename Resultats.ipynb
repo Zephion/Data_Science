{
 "cells": [
  {
   "cell_type": "code",
   "execution_count": 94,
   "metadata": {},
   "outputs": [],
   "source": [
    "import pandas as pd\n",
    "from sqlalchemy import create_engine\n",
    "import matplotlib.pyplot as plt \n",
    "\n",
    "def detect_duplicates(List_patient):\n",
    "    #Total row of List_patient:\n",
    "    tot_row_patient = List_patient.patient_id.count()\n",
    "    print(\"Total of row on table patient: \", tot_row_patient)\n",
    "    \n",
    "    List_patient2 = List_patient.dropna(subset=['state', 'age'])\n",
    "    List_patient2 = List_patient2.drop(columns=['given_name', 'surname', \n",
    "                                   'street_number', 'address_1', 'suburb', 'phone_number',\n",
    "                                  'address_2'])\n",
    "    \n",
    "    #delete all rows when age == 0.00\n",
    "    age_zero = List_patient2[List_patient2['age'] == 0.00].index\n",
    "    List_patient2.drop(age_zero, inplace=True)\n",
    "    \n",
    "    tot_row_patient2 = List_patient2.patient_id.count()\n",
    "    print(\"Total of row on table patient after the process: \", tot_row_patient2)\n",
    "    \n",
    "    #How many deleted data's ?\n",
    "    delete_row = ((tot_row_patient - tot_row_patient2)/tot_row_patient) * 100\n",
    "    print(\"To deduplicated, there is: \", delete_row, \" % of row, which are deleted\")\n",
    "    \n",
    "    return List_patient2\n",
    "    \n",
    "engine = create_engine('sqlite:///data.db', echo=False)\n",
    "con = engine.connect()\n",
    "df_patient = pd.read_sql('select * from patient', con=con)\n",
    "df_pcr = pd.read_sql('select * from test', con=con)\n",
    "con.close()\n"
   ]
  },
  {
   "cell_type": "code",
   "execution_count": 95,
   "metadata": {},
   "outputs": [
    {
     "name": "stdout",
     "output_type": "stream",
     "text": [
      "    patient_id given_name      surname  street_number              address_1  \\\n",
      "0       221958    matisse       clarke           13.0            rene street   \n",
      "1       771155     joshua       elrick           23.0           andrea place   \n",
      "2       231932      alice       conboy           35.0       mountain circuit   \n",
      "3       465838     sienna     craswell           39.0    cumberlegeicrescent   \n",
      "4       359178     joshua    bastiaans          144.0          lowrie street   \n",
      "5       744167         ky        laing          448.0            nyawi place   \n",
      "6       210268    matthew        laing           11.0           barnes place   \n",
      "7       832180       jack      renfrey           27.0          osmand street   \n",
      "8       154886      adele         ryan           76.0          house circuit   \n",
      "9       237337   breeanne        wynne           12.0          cowper street   \n",
      "10      621430    michael        white           17.0          farrer street   \n",
      "11      187498       None        mason           20.0         padbury street   \n",
      "12      999159     joshua      bristow           21.0            thake place   \n",
      "13      275203        max      godfrey          166.0          givens street   \n",
      "14      291335    mikayla     paterson           20.0  freda bennett circuit   \n",
      "15      378167       cain      scarles           58.0           reader court   \n",
      "16      141090    georgia        white          117.0          burston place   \n",
      "17      429365       None       coffey         1409.0           musson close   \n",
      "18      164820        lia        wilde           30.0           elsey street   \n",
      "19      887201   mitchekl  stephenskon           58.0         rosman circuit   \n",
      "\n",
      "                suburb postcode state  date_of_birth   age phone_number  \\\n",
      "0           ellenbrook     2527    wa     19710708.0  32.0  08 86018809   \n",
      "1         east preston     2074   nsw     19120921.0  34.0  02 97793152   \n",
      "2             prospect     2305   nsw     19810905.0  22.0  02 20403934   \n",
      "3                henty     3620    wa     19840809.0  30.0  02 62832318   \n",
      "4        campbell town     4051   nsw     19340430.0  31.0  03 69359594   \n",
      "5              barmera     3556   qld     19050919.0  32.0  03 59872070   \n",
      "6            laurieton     2160   nsw     19061018.0  29.0  02 86925029   \n",
      "7          maribyrnong     2170   qld     19610518.0  31.0  03 15575583   \n",
      "8             new farm     2200   qld     19430102.0  33.0  07 37444521   \n",
      "9           bonnet bay     2062   qld     19030606.0  35.0  08 24888117   \n",
      "10      flagstaff hill     3971    nt     19830308.0  30.0  08 61399758   \n",
      "11           granville     6239   qld     19201021.0  38.0  03 85186450   \n",
      "12          oxley vale     7004   nsw     19650125.0  33.0  08 93848698   \n",
      "13          leichhardt     4152   nsw     19860908.0   6.0  07 88425978   \n",
      "14       dover heights     4670   qld     19810810.0   NaN  08 88377793   \n",
      "15             dorrigo     2428   qld            NaN  31.0  03 67476384   \n",
      "16              conder     4127   nsw     19920702.0  40.0  07 53985196   \n",
      "17  beaconsfield upper     5019    wa            NaN  30.0  03 13369308   \n",
      "18                None     3109   qld     19070704.0   NaN  03 98048163   \n",
      "19            eastwood     2359    sa     19320814.0  39.0  03 85151806   \n",
      "\n",
      "        address_2 number_state  \n",
      "0        westella         None  \n",
      "1         foxdown         None  \n",
      "2            None         None  \n",
      "3          jodane         None  \n",
      "4            None         None  \n",
      "5            None         None  \n",
      "6            None         None  \n",
      "7     dhurringill         None  \n",
      "8            None         None  \n",
      "9            None         None  \n",
      "10           None         None  \n",
      "11  pioneer lodge         None  \n",
      "12           None         None  \n",
      "13           None         None  \n",
      "14           None         None  \n",
      "15         jorobe         None  \n",
      "16           None         None  \n",
      "17     silverweir         None  \n",
      "18           None         None  \n",
      "19           None         None  \n",
      "       patient_id given_name      surname  street_number  \\\n",
      "19980      811863      ethan      statham           17.0   \n",
      "19981      210782       hana      barazda           18.0   \n",
      "19982      581005    rebecca        santi           13.0   \n",
      "19983      230775   victoria     whiteley           12.0   \n",
      "19984      134889     xavier       priest           28.0   \n",
      "19985      407822      sarah     matthews           58.0   \n",
      "19986      326406      kiara        cheel           89.0   \n",
      "19987      684550     robert   makovetsky            1.0   \n",
      "19988      235753       erin     jeffries            2.0   \n",
      "19989      704579    michael     eglinton          215.0   \n",
      "19990      690296     bayden          due         1084.0   \n",
      "19991      871835    william     villiers           20.0   \n",
      "19992      329489      amber  leeuwenburg           50.0   \n",
      "19993      506906     cooper     sherriff           25.0   \n",
      "19994      912344     fraser      mcneill           10.0   \n",
      "19995      368617       abby         None           19.0   \n",
      "19996      796658       dale       priest           19.0   \n",
      "19997      511885    alessia       mawlai            4.0   \n",
      "19998      985932     hannah        mason            1.0   \n",
      "19999      925217       jack      mcveigh            5.0   \n",
      "\n",
      "                   address_1              suburb postcode state  \\\n",
      "19980     o'halloran circuit       mount gravatt     3350   nsw   \n",
      "19981        hampton circuit                None     2047   qld   \n",
      "19982         whistler place            artarmon     2452   vic   \n",
      "19983         beasley street        landsborough     2388   nsw   \n",
      "19984          needham place            reynella     3318   nsw   \n",
      "19985            zox circuit         seven hills     3174   nsw   \n",
      "19986            shand place           kincumber     2535   nsw   \n",
      "19987         petterd street            parkdale     3141   vic   \n",
      "19988          bowling place            st kilda     5038    wa   \n",
      "19989      ambalindum street  birmingham gardens     2604   vic   \n",
      "19990           weekes close             allawah     2068    sa   \n",
      "19991            perry drive         mount annan     3075   vic   \n",
      "19992                   None            glenwood     2578   vic   \n",
      "19993        monaro crescent            embleton     3149   qld   \n",
      "19994          collie street            booragul     2075   qld   \n",
      "19995  john cleland crescent        boyne island     2290   nsw   \n",
      "19996  bellchambers crescent    hoppers crossing     3033    wa   \n",
      "19997          miller street          smithfield     3616   tas   \n",
      "19998         halligan place           beaumaris     2443    wa   \n",
      "19999           alinda place          thornlands     4350   nsw   \n",
      "\n",
      "       date_of_birth   age phone_number    address_2 number_state  \n",
      "19980     19280626.0  21.0  07 56913484         None         None  \n",
      "19981     19730511.0   NaN  02 55468100         None         None  \n",
      "19982     19150724.0  29.0  07 06099570         None         None  \n",
      "19983     19491217.0  30.0  03 68108604    ponderosa         None  \n",
      "19984            NaN   NaN  02 74580410         None         None  \n",
      "19985     19241001.0  25.0  08 77093884  lagoon farm         None  \n",
      "19986     19870709.0  24.0  02 90785400      wiltona         None  \n",
      "19987     19400917.0  33.0  03 60493727         None         None  \n",
      "19988     19701207.0  28.0  07 25650398         None         None  \n",
      "19989     19140808.0   7.0  02 85100697         None         None  \n",
      "19990     19641112.0  25.0  03 28550636         None         None  \n",
      "19991     19420912.0  33.0  08 24585653         None         None  \n",
      "19992     19720229.0  25.0  03 46144930         None         None  \n",
      "19993     19211111.0  34.0  04 36452619         None         None  \n",
      "19994            NaN  31.0  02 77020191         None         None  \n",
      "19995     19570210.0   NaN  02 92489054     glenmore         None  \n",
      "19996     19590619.0  31.0  07 20549476         None         None  \n",
      "19997            NaN  26.0  03 83466737         None         None  \n",
      "19998     19140304.0  25.0  04 41125514         None         None  \n",
      "19999     19230521.0  26.0  07 52535106         None         None  \n"
     ]
    }
   ],
   "source": [
    "print(df_patient.head(20))\n",
    "print(df_patient.tail(20))"
   ]
  },
  {
   "cell_type": "code",
   "execution_count": 96,
   "metadata": {},
   "outputs": [
    {
     "name": "stdout",
     "output_type": "stream",
     "text": [
      "           patient_id given_name surname  street_number          address_1  \\\n",
      "count    20000.000000      19560   19575   19618.000000              19204   \n",
      "unique            NaN       1171    4273            NaN               4326   \n",
      "top               NaN     emiily   white            NaN  paul coe crescent   \n",
      "freq              NaN        373     539            NaN                 57   \n",
      "mean    553918.938750        NaN     NaN      98.812468                NaN   \n",
      "std     260234.961111        NaN     NaN    2481.908686                NaN   \n",
      "min     100005.000000        NaN     NaN       0.000000                NaN   \n",
      "25%     330194.250000        NaN     NaN      10.000000                NaN   \n",
      "50%     556327.500000        NaN     NaN      24.000000                NaN   \n",
      "75%     779419.500000        NaN     NaN      60.000000                NaN   \n",
      "max     999993.000000        NaN     NaN  342951.000000                NaN   \n",
      "\n",
      "           suburb postcode  state  date_of_birth           age phone_number  \\\n",
      "count       19788    19801  18010   1.798900e+04  16003.000000        19081   \n",
      "unique       2925     2021    102            NaN           NaN        17916   \n",
      "top     toowoomba     4350    nsw            NaN           NaN  02 25160752   \n",
      "freq          167       96   6143            NaN           NaN            4   \n",
      "mean          NaN      NaN    NaN   1.949638e+07     27.534337          NaN   \n",
      "std           NaN      NaN    NaN   2.926916e+05      7.807008          NaN   \n",
      "min           NaN      NaN    NaN   1.290041e+07      0.000000          NaN   \n",
      "25%           NaN      NaN    NaN   1.924113e+07     24.000000          NaN   \n",
      "50%           NaN      NaN    NaN   1.950032e+07     29.000000          NaN   \n",
      "75%           NaN      NaN    NaN   1.975052e+07     33.000000          NaN   \n",
      "max           NaN      NaN    NaN   1.999123e+07     92.000000          NaN   \n",
      "\n",
      "             address_2 number_state  \n",
      "count             7893            0  \n",
      "unique            3460            0  \n",
      "top     brentwood vlge          NaN  \n",
      "freq                85          NaN  \n",
      "mean               NaN          NaN  \n",
      "std                NaN          NaN  \n",
      "min                NaN          NaN  \n",
      "25%                NaN          NaN  \n",
      "50%                NaN          NaN  \n",
      "75%                NaN          NaN  \n",
      "max                NaN          NaN  \n"
     ]
    }
   ],
   "source": [
    "#Analyse de la base de données ---------------\n",
    " #Il y a 20000 lignes dans la tables \"patient\", par exemple la colonne given_name a 19560 lignes \n",
    " #rempli. Et le reste des lignes n'ont pas de valeurs. Cette logique s'applique sur les autres\n",
    " #colonnes. Le problème c'est qu'il y a des valeurs NaN (cela veut dire qu'il y a des valeur vide dans la colonne) \n",
    " #sur la colonne age et qui genera les statistiques sur les patients par rapport à leur ages. De plus, il y a des ages, \n",
    " #dont la valeur minimum est de 0, ce qui n'est pas possible. \n",
    " #C'est aussi pareil pour les autres colonnes tel que la colonne state, car il y a aussi des valeurs NaN et\n",
    " #donc genera les statistiques des patients atteint du covid-19 sur leur zone géographique.\n",
    " #En ce qui concerne la table test, il y a 8800 lignes avec aucune valeurs NaN ou None.\n",
    " #De plus, il y a des ages, dont la valeur minimum est de 0, ce qui n'est pas possible.   \n",
    "\n",
    "#Il y a des problèmes de cohérance de données, car dans la requête ci-dessous:\n",
    " #data_consistancy = pd.read_sql('select count(*) from patient where patient_id IN (select patient_id from test)', con=con)\n",
    " #Les 2 tables sont liées entre un champs commun patient_id. Il y n'y a que 8898 ligne de la table patient qui sont\n",
    " #relié avec la table test, cela veut aussi dire qu'il y a 11102 patients dont ont ne connait pas les résultats des tests.\n",
    " #Donc il y a plus de 50% des données de la tables patients qui ne sont pas exploitable.\n",
    "\n",
    "print(df_patient.describe(include=\"all\"))"
   ]
  },
  {
   "cell_type": "code",
   "execution_count": 97,
   "metadata": {},
   "outputs": [
    {
     "name": "stdout",
     "output_type": "stream",
     "text": [
      "Total of row on table patient:  20000\n",
      "Total of row on table patient after the process:  14393\n",
      "To deduplicated, there is:  28.035  % of row, which are deleted\n",
      "           patient_id postcode  state  date_of_birth           age  \\\n",
      "count    14393.000000    14244  14393   1.294600e+04  14393.000000   \n",
      "unique            NaN     1870     85            NaN           NaN   \n",
      "top               NaN     4350    nsw            NaN           NaN   \n",
      "freq              NaN       63   4970            NaN           NaN   \n",
      "mean    555575.859862      NaN    NaN   1.949840e+07     27.518308   \n",
      "std     260143.152566      NaN    NaN   2.947453e+05      7.802655   \n",
      "min     100005.000000      NaN    NaN   1.290041e+07      1.000000   \n",
      "25%     332050.000000      NaN    NaN   1.925013e+07     24.000000   \n",
      "50%     557373.000000      NaN    NaN   1.950097e+07     29.000000   \n",
      "75%     782465.000000      NaN    NaN   1.975062e+07     33.000000   \n",
      "max     999993.000000      NaN    NaN   1.999123e+07     92.000000   \n",
      "\n",
      "       number_state  \n",
      "count             0  \n",
      "unique            0  \n",
      "top             NaN  \n",
      "freq            NaN  \n",
      "mean            NaN  \n",
      "std             NaN  \n",
      "min             NaN  \n",
      "25%             NaN  \n",
      "50%             NaN  \n",
      "75%             NaN  \n",
      "max             NaN  \n"
     ]
    }
   ],
   "source": [
    "#Analyse de la base de données suite ---------------\n",
    " #Après la déduplication, seulement les colonnes utiles ont été gardés.\n",
    " #Nous pouvons remarquer des valeur plus cohérente à l'age. La valeur minimal est 1 an et l'age maximal est de 92 ans. \n",
    " #Dans mon analyse, je suposse que les enfant de 12 mois ne peuvent être testés, de plus, la veleur 0 an de age \n",
    " #fausserait le resultat dans les calcul de moyenne et dans la visualisation des donées.\n",
    "\n",
    "dedublicated_patient = detect_duplicates(df_patient)\n",
    "print(dedublicated_patient.describe(include=\"all\"))"
   ]
  },
  {
   "cell_type": "code",
   "execution_count": 108,
   "metadata": {},
   "outputs": [
    {
     "name": "stdout",
     "output_type": "stream",
     "text": [
      "      patient_id postcode state  date_of_birth   age number_state       pcr\n",
      "0         771155     2074   nsw     19120921.0  34.0         None  Negative\n",
      "1         744167     3556   qld     19050919.0  32.0         None         N\n",
      "2         210268     2160   nsw     19061018.0  29.0         None  Negative\n",
      "3         832180     2170   qld     19610518.0  31.0         None         P\n",
      "4         154886     2200   qld     19430102.0  33.0         None  Negative\n",
      "...          ...      ...   ...            ...   ...          ...       ...\n",
      "6445      230775     2388   nsw     19491217.0  30.0         None         P\n",
      "6446      407822     3174   nsw     19241001.0  25.0         None  Negative\n",
      "6447      704579     2604   vic     19140808.0   7.0         None  Positive\n",
      "6448      329489     2578   vic     19720229.0  25.0         None  Positive\n",
      "6449      506906     3149   qld     19211111.0  34.0         None         N\n",
      "\n",
      "[6450 rows x 7 columns]\n"
     ]
    }
   ],
   "source": [
    "#Below, this a merge between patient and pcr\n",
    "df_inner = pd.merge(dedublicated_patient, df_pcr, on='patient_id', how='inner')\n",
    "print(df_inner)"
   ]
  },
  {
   "cell_type": "code",
   "execution_count": 103,
   "metadata": {},
   "outputs": [
    {
     "name": "stdout",
     "output_type": "stream",
     "text": [
      "Number of positif case:  1621\n",
      "Total of positive people is:  8.105 %\n",
      "Total of positive people in deduplicated data is:  11.262419231570902 %\n"
     ]
    }
   ],
   "source": [
    "#Analyse des résultats -------------------------------------\n",
    " #Nombre de cas positives:\n",
    " #Via la dataset dédupliqué, nous avons 1621 cas positive récensé avec fiabilité, puisque \n",
    " #lignes dont l'age est égale à 0 ou NaN, ou dont la valeur de state est à NaN.\n",
    " #Mais cela peut aussi dire qu'une ligne avec une age valide, alors que le state est à NaN\n",
    " #sera supprimé. Cependant, si une ce ligne sans state a été accepté, alors cela fauserai la visualisation\n",
    " #des données avec l'age.\n",
    "    \n",
    "#Pour trouver le nombre de cas positive (les valeurs sont 'Positive' ou 'P')\n",
    "positive_people = df_inner.query('pcr == \"Positive\" or pcr == \"P\"').patient_id.count()\n",
    "print(\"Number of positif case: \", positive_people)\n",
    "\n",
    "#Ci-dessous, permet de voir ce que représente 1621 cas positive sur le nombre tatal de patient avant la déduplication \n",
    "perc_positive = (int(positive_people)/20000)*100\n",
    "print(\"Total of positive people is: \", perc_positive, \"%\")\n",
    "\n",
    "#Ci-dessous, permet de voir ce que représente 1621 cas positive sur le nombre tatal de patient après la déduplication \n",
    "perc_positive_dedub = (int(positive_people)/14393)*100\n",
    "print(\"Total of positive people in deduplicated data is: \", perc_positive_dedub, \"%\")"
   ]
  },
  {
   "cell_type": "code",
   "execution_count": 99,
   "metadata": {
    "scrolled": true
   },
   "outputs": [
    {
     "data": {
      "image/png": "[encoded data removed]",
      "text/plain": [
       "<Figure size 432x288 with 1 Axes>"
      ]
     },
     "metadata": {
      "needs_background": "light"
     },
     "output_type": "display_data"
    }
   ],
   "source": [
    "#Analyse des résultats suite -------------------------------------\n",
    " #Dans notre base de données, nous pouvons voir que la majorité de la population de la base de données\n",
    " #sont dans la tranche de 20-40 ans (Même en comptant les 1er et le 3eme quartiles).\n",
    " #Cela veut dire que la base de données n'ont pas une populations très hétérogène, car les patients\n",
    " #testés sont relativement jeune.\n",
    "\n",
    "boxplot = df_inner.boxplot(column=['age'])"
   ]
  },
  {
   "cell_type": "code",
   "execution_count": 100,
   "metadata": {},
   "outputs": [
    {
     "data": {
      "text/plain": [
       "Text(0.5, 1.0, 'Ratio age et nombre de personne')"
      ]
     },
     "execution_count": 100,
     "metadata": {},
     "output_type": "execute_result"
    },
    {
     "data": {
      "image/png": "[encoded data removed]",
      "text/plain": [
       "<Figure size 432x288 with 1 Axes>"
      ]
     },
     "metadata": {
      "needs_background": "light"
     },
     "output_type": "display_data"
    }
   ],
   "source": [
    "#Analyse des résultats suite -------------------------------------\n",
    " #L'histogramme ci-dessous confirme le graphique précédent. Cela vut dire que la majorité de la\n",
    " #population se trouve dans la tranche 20 - 40 ans. Surtout dans la permière moitié.\n",
    "\n",
    "plt.hist(df_inner.age, range = (0, 100), bins = 10, color = 'yellow',\n",
    "            edgecolor = 'red')\n",
    "plt.xlabel('age')\n",
    "plt.ylabel('nombres de personne')\n",
    "plt.title('Ratio age et nombre de personne')"
   ]
  },
  {
   "cell_type": "code",
   "execution_count": 104,
   "metadata": {},
   "outputs": [
    {
     "data": {
      "image/png": "[encoded data removed]",
      "text/plain": [
       "<Figure size 1440x720 with 1 Axes>"
      ]
     },
     "metadata": {
      "needs_background": "light"
     },
     "output_type": "display_data"
    }
   ],
   "source": [
    "#Analyse des résultats suite -------------------------------------\n",
    " #Ci-dessous, nous avons un histogramme sur le ratio age et résultat. La majorité des\n",
    " #cas positives sont dans les 40 ans. C'est -à-dire que les popultations entre 0 -20 ans et 20 - 40 sont plus de\n",
    " #chance d'être positive. Cependant, la majourité de la population sont entre\n",
    " #0 - 40 ans, pour avoir des résultats plus fiable, il faut des ages plus différents (surtout au-dessus de 40 ans).\n",
    "\n",
    "df_inner.plot(kind='bar',x='pcr',y='age')\n",
    "df_inner.groupby('pcr')['pcr'].nunique().plot(kind='bar', figsize=(20,10))\n",
    "plt.show()"
   ]
  },
  {
   "cell_type": "code",
   "execution_count": 109,
   "metadata": {},
   "outputs": [
    {
     "data": {
      "image/png": "[encoded data removed]",
      "text/plain": [
       "<Figure size 1440x720 with 1 Axes>"
      ]
     },
     "metadata": {
      "needs_background": "light"
     },
     "output_type": "display_data"
    }
   ],
   "source": [
    "#Analyse des résultats suite -------------------------------------\n",
    " #Ci-dessous, nous avons un graphe qui montre avec plus de précision la relation avec l'age de\n",
    " #la population et le virus. Le graphe précedent, nous a fait comprendre que les atteeint du virus\n",
    " #sont dans la population jeune (0 - 40 ans). Mais ci-dessous, il nous précise que ce sont les personnes \n",
    " #entre 20 - 40 qui sont les plus touchées. Mais nous pouvons aussi remarqué que des personnes avec des ages\n",
    " #plus avancées de notre population sont assez epargnées du virus, comme indiquer sur la ligne 3 et 4 du graphe ci-dessous.\n",
    " #Mais cela ne veut pas dire que le virus n'a pas d'effet sur les personnes agées,  puisque qu'il faut voir la ligne 1\n",
    " #du graphe ci-dessous. \n",
    "    \n",
    " #Les graphes précédents nous montraient que notre population en base de données sont principalement constituées\n",
    " #de personne e,tre 0 - 40 ans. Dans pour confirner l'analyse entre l'age d'une personnes et le virus, il faut plus de \n",
    " #données concernant les personnes entre 40 - 80 ans.\n",
    "    \n",
    "#Below indicated the ratio between age et pcr\n",
    "df_inner.plot(kind='scatter',x='age',y='pcr',color='red', figsize=(20,10))\n",
    "plt.show()"
   ]
  },
  {
   "cell_type": "code",
   "execution_count": 106,
   "metadata": {},
   "outputs": [
    {
     "name": "stdout",
     "output_type": "stream",
     "text": [
      "    patient_id postcode state  date_of_birth   age number_state       pcr\n",
      "3       832180     2170   qld     19610518.0  31.0         None         P\n",
      "5       999159     7004   nsw     19650125.0  33.0         None  Positive\n",
      "9       335796     4575   act     19481205.0  24.0         None         P\n",
      "12      484681     2317   vic     19130421.0  28.0         None  Positive\n",
      "13      754811     4075   tas     19611127.0  33.0         None  Positive\n",
      "14      419030     2303   qld     19890823.0  20.0         None  Positive\n",
      "19      431236     7301   qld     19380506.0   8.0         None  Positive\n",
      "27      356508     7277   qld     19600624.0  35.0         None         P\n",
      "31      824839     4118    wa     19011122.0  24.0         None  Positive\n",
      "32      415139     2428   qld            NaN  21.0         None         P\n",
      "37      587879     None   vic     19351020.0  26.0         None  Positive\n",
      "39      124300     2045   nsw     19770703.0  26.0         None  Positive\n",
      "40      448951     7250   nsw     19740809.0  30.0         None  Positive\n",
      "41      448951     6401    wa     19110402.0  32.0         None  Positive\n",
      "48      686146     5163   vic     19530214.0  23.0         None  Positive\n",
      "51      921654     5153   vic     19179318.0  24.0         None  Positive\n",
      "57      239182     3782   nsw     19620330.0  37.0         None  Positive\n",
      "58      222409     2011   vic     19820315.0  26.0         None         P\n",
      "68      752664     2121   vic     19621016.0  23.0         None         P\n",
      "70      752664     2379    sa     19150511.0  28.0         None         P\n"
     ]
    },
    {
     "data": {
      "image/png": "[encoded data removed]",
      "text/plain": [
       "<Figure size 1440x720 with 1 Axes>"
      ]
     },
     "metadata": {
      "needs_background": "light"
     },
     "output_type": "display_data"
    }
   ],
   "source": [
    "#Analyse des résultats suite -------------------------------------\n",
    " #ci-dessous, ce sont les résultats d'un ratio entre age et les états du pays.\n",
    " #Ce ratio a été crée à partir d'une population où il n'y a que des cas positives.\n",
    " \n",
    "List_positive_case = df_inner\n",
    "\n",
    "no_positive = List_positive_case[(List_positive_case['pcr'] == 'Negative') | (List_positive_case['pcr'] == 'N')].index\n",
    "List_positive_case.drop(no_positive, inplace=True)\n",
    "    \n",
    "print(List_positive_case.head(20))\n",
    "\n",
    "List_positive_case.plot(kind='bar',x='state',y='age')\n",
    "List_positive_case.groupby('state')['state'].nunique().plot(kind='bar', figsize=(20,10))\n",
    "plt.show()"
   ]
  },
  {
   "cell_type": "code",
   "execution_count": 111,
   "metadata": {},
   "outputs": [
    {
     "name": "stdout",
     "output_type": "stream",
     "text": [
      "state\n",
      "act      20\n",
      "ic        1\n",
      "nfw       1\n",
      "nsc       1\n",
      "nsd       1\n",
      "nse       1\n",
      "nsq       1\n",
      "nss       4\n",
      "nsw     539\n",
      "nswt      1\n",
      "nt        5\n",
      "nvq       1\n",
      "nwx       1\n",
      "ql        1\n",
      "qld     321\n",
      "qlf       1\n",
      "qlr       1\n",
      "s         1\n",
      "sa      110\n",
      "tas      47\n",
      "vh        1\n",
      "vic     409\n",
      "wa      148\n",
      "waw       1\n",
      "ws        3\n",
      "Name: patient_id, dtype: int64\n"
     ]
    }
   ],
   "source": [
    "#Nous pouvons donc voir que état \"nsw\", \"qld\", \"sa\", \"vic\" et \"wa\"\n",
    " #qui sont plus sérieusement touché par le virus, car ont plus de cas positive.\n",
    "print(List_positive_case.groupby('state').patient_id.count())"
   ]
  },
  {
   "cell_type": "code",
   "execution_count": 112,
   "metadata": {},
   "outputs": [],
   "source": [
    "#Analyse Finale -----------------------------------------\n",
    " #De ce que nous pouvons voir au début du projet, la base de données comporté des champs vides, ainsi quelque problème\n",
    " #de cohérence de données. C'est à dire qu'il y a des ligne où la valeur age était égale à 0. De plus, il y avait des cas où\n",
    " #des lignes où il n'y avais pas de valeur pour les états. Du coup, pour avoir des données fiable à réaliser, il faut supprimer\n",
    " #tous les lignes à problème. Du coup, notre nouveau jeu de données à analyser contient 28% de moins de données par apport\n",
    " #à notre jeu initial. Nous avons pu voir au cours de toute notre analyse que les personnes entre 0 à 40 ans de notre\n",
    " #popultation (les patients en base de donnée) sont plus atteint par le virus. Ensuite, les graphes ont pu montrer quelles \n",
    " #étaient les zones géographiques les plus touchées par le virus. Cependant, notre analyse a un prblème, car notre \n",
    " #population est principalement consitutée de population jeune (dans les 40 ans), du coup il faut plus de jeun de données et\n",
    " #avec des ages plus hétérogène pour réaliser une analyse fiable entre l'age d'une personne et le virus."
   ]
  },
  {
   "cell_type": "code",
   "execution_count": null,
   "metadata": {},
   "outputs": [],
   "source": []
  }
 ],
 "metadata": {
  "kernelspec": {
   "display_name": "Python 3",
   "language": "python",
   "name": "python3"
  },
  "language_info": {
   "codemirror_mode": {
    "name": "ipython",
    "version": 3
   },
   "file_extension": ".py",
   "mimetype": "text/x-python",
   "name": "python",
   "nbconvert_exporter": "python",
   "pygments_lexer": "ipython3",
   "version": "3.8.3"
  }
 },
 "nbformat": 4,
 "nbformat_minor": 4
}
